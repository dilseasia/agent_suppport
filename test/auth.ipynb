{
 "cells": [
  {
   "cell_type": "code",
   "execution_count": 3,
   "id": "96cee12c",
   "metadata": {},
   "outputs": [
    {
     "name": "stdout",
     "output_type": "stream",
     "text": [
      "Requirement already satisfied: composio in /home/daljeet/Downloads/python/python_LLM_backend-test/.venv/lib/python3.12/site-packages (0.8.10)\n",
      "Requirement already satisfied: pysher>=1.0.8 in /home/daljeet/Downloads/python/python_LLM_backend-test/.venv/lib/python3.12/site-packages (from composio) (1.0.8)\n",
      "Requirement already satisfied: pydantic>=2.6.4 in /home/daljeet/Downloads/python/python_LLM_backend-test/.venv/lib/python3.12/site-packages (from composio) (2.11.7)\n",
      "Requirement already satisfied: composio-client==1.6.0 in /home/daljeet/Downloads/python/python_LLM_backend-test/.venv/lib/python3.12/site-packages (from composio) (1.6.0)\n",
      "Requirement already satisfied: typing-extensions>=4.0.0 in /home/daljeet/Downloads/python/python_LLM_backend-test/.venv/lib/python3.12/site-packages (from composio) (4.15.0)\n",
      "Requirement already satisfied: openai in /home/daljeet/Downloads/python/python_LLM_backend-test/.venv/lib/python3.12/site-packages (from composio) (1.107.1)\n",
      "Requirement already satisfied: anyio<5,>=3.5.0 in /home/daljeet/Downloads/python/python_LLM_backend-test/.venv/lib/python3.12/site-packages (from composio-client==1.6.0->composio) (4.10.0)\n",
      "Requirement already satisfied: distro<2,>=1.7.0 in /home/daljeet/Downloads/python/python_LLM_backend-test/.venv/lib/python3.12/site-packages (from composio-client==1.6.0->composio) (1.9.0)\n",
      "Requirement already satisfied: httpx<1,>=0.23.0 in /home/daljeet/Downloads/python/python_LLM_backend-test/.venv/lib/python3.12/site-packages (from composio-client==1.6.0->composio) (0.28.1)\n",
      "Requirement already satisfied: sniffio in /home/daljeet/Downloads/python/python_LLM_backend-test/.venv/lib/python3.12/site-packages (from composio-client==1.6.0->composio) (1.3.1)\n",
      "Requirement already satisfied: annotated-types>=0.6.0 in /home/daljeet/Downloads/python/python_LLM_backend-test/.venv/lib/python3.12/site-packages (from pydantic>=2.6.4->composio) (0.7.0)\n",
      "Requirement already satisfied: pydantic-core==2.33.2 in /home/daljeet/Downloads/python/python_LLM_backend-test/.venv/lib/python3.12/site-packages (from pydantic>=2.6.4->composio) (2.33.2)\n",
      "Requirement already satisfied: typing-inspection>=0.4.0 in /home/daljeet/Downloads/python/python_LLM_backend-test/.venv/lib/python3.12/site-packages (from pydantic>=2.6.4->composio) (0.4.1)\n",
      "Requirement already satisfied: websocket-client!=0.49 in /home/daljeet/Downloads/python/python_LLM_backend-test/.venv/lib/python3.12/site-packages (from pysher>=1.0.8->composio) (1.8.0)\n",
      "Requirement already satisfied: requests>=2.26.0 in /home/daljeet/Downloads/python/python_LLM_backend-test/.venv/lib/python3.12/site-packages (from pysher>=1.0.8->composio) (2.32.5)\n",
      "Requirement already satisfied: jiter<1,>=0.4.0 in /home/daljeet/Downloads/python/python_LLM_backend-test/.venv/lib/python3.12/site-packages (from openai->composio) (0.10.0)\n",
      "Requirement already satisfied: tqdm>4 in /home/daljeet/Downloads/python/python_LLM_backend-test/.venv/lib/python3.12/site-packages (from openai->composio) (4.67.1)\n",
      "Requirement already satisfied: idna>=2.8 in /home/daljeet/Downloads/python/python_LLM_backend-test/.venv/lib/python3.12/site-packages (from anyio<5,>=3.5.0->composio-client==1.6.0->composio) (3.10)\n",
      "Requirement already satisfied: certifi in /home/daljeet/Downloads/python/python_LLM_backend-test/.venv/lib/python3.12/site-packages (from httpx<1,>=0.23.0->composio-client==1.6.0->composio) (2025.8.3)\n",
      "Requirement already satisfied: httpcore==1.* in /home/daljeet/Downloads/python/python_LLM_backend-test/.venv/lib/python3.12/site-packages (from httpx<1,>=0.23.0->composio-client==1.6.0->composio) (1.0.9)\n",
      "Requirement already satisfied: h11>=0.16 in /home/daljeet/Downloads/python/python_LLM_backend-test/.venv/lib/python3.12/site-packages (from httpcore==1.*->httpx<1,>=0.23.0->composio-client==1.6.0->composio) (0.16.0)\n",
      "Requirement already satisfied: charset_normalizer<4,>=2 in /home/daljeet/Downloads/python/python_LLM_backend-test/.venv/lib/python3.12/site-packages (from requests>=2.26.0->pysher>=1.0.8->composio) (3.4.3)\n",
      "Requirement already satisfied: urllib3<3,>=1.21.1 in /home/daljeet/Downloads/python/python_LLM_backend-test/.venv/lib/python3.12/site-packages (from requests>=2.26.0->pysher>=1.0.8->composio) (2.5.0)\n",
      "Note: you may need to restart the kernel to use updated packages.\n"
     ]
    }
   ],
   "source": [
    "pip install --upgrade composio\n"
   ]
  },
  {
   "cell_type": "code",
   "execution_count": null,
   "id": "c92b5ed9",
   "metadata": {},
   "outputs": [
    {
     "ename": "TypeError",
     "evalue": "AuthConfigs.create() got an unexpected keyword argument 'name'",
     "output_type": "error",
     "traceback": [
      "\u001b[31m---------------------------------------------------------------------------\u001b[39m",
      "\u001b[31mTypeError\u001b[39m                                 Traceback (most recent call last)",
      "\u001b[36mCell\u001b[39m\u001b[36m \u001b[39m\u001b[32mIn[1]\u001b[39m\u001b[32m, line 6\u001b[39m\n\u001b[32m      3\u001b[39m client = Composio(api_key=\u001b[33m\"\u001b[39m\u001b[33mak_GepAqzYQ6d6WggBF_zot\u001b[39m\u001b[33m\"\u001b[39m)\n\u001b[32m      5\u001b[39m \u001b[38;5;66;03m# Using keyword arguments\u001b[39;00m\n\u001b[32m----> \u001b[39m\u001b[32m6\u001b[39m auth_config = \u001b[43mclient\u001b[49m\u001b[43m.\u001b[49m\u001b[43mauth_configs\u001b[49m\u001b[43m.\u001b[49m\u001b[43mcreate\u001b[49m\u001b[43m(\u001b[49m\n\u001b[32m      7\u001b[39m \u001b[43m    \u001b[49m\u001b[43mname\u001b[49m\u001b[43m=\u001b[49m\u001b[33;43m\"\u001b[39;49m\u001b[33;43mgmail_oauth_config\u001b[39;49m\u001b[33;43m\"\u001b[39;49m\u001b[43m,\u001b[49m\n\u001b[32m      8\u001b[39m \u001b[43m    \u001b[49m\u001b[43mdescription\u001b[49m\u001b[43m=\u001b[49m\u001b[33;43m\"\u001b[39;49m\u001b[33;43mAuth config for Gmail using OAuth2\u001b[39;49m\u001b[33;43m\"\u001b[39;49m\u001b[43m,\u001b[49m\n\u001b[32m      9\u001b[39m \u001b[43m    \u001b[49m\u001b[43mauth_type\u001b[49m\u001b[43m=\u001b[49m\u001b[33;43m\"\u001b[39;49m\u001b[33;43mOAUTH2\u001b[39;49m\u001b[33;43m\"\u001b[39;49m\u001b[43m,\u001b[49m\n\u001b[32m     10\u001b[39m \u001b[43m    \u001b[49m\u001b[43mclient_id\u001b[49m\u001b[43m=\u001b[49m\u001b[33;43m\"\u001b[39;49m\u001b[33;43m748437915604-jofnhl9p4u8hpr1qn6b5jhlsobp7d7mq.apps.googleusercontent.com\u001b[39;49m\u001b[33;43m\"\u001b[39;49m\u001b[43m,\u001b[49m\n\u001b[32m     11\u001b[39m \u001b[43m    \u001b[49m\u001b[43mclient_secret\u001b[49m\u001b[43m=\u001b[49m\u001b[33;43m\"\u001b[39;49m\u001b[33;43mGOCSPX-VEOMsDBz7fxwlbNVklycgNHGh74l\u001b[39;49m\u001b[33;43m\"\u001b[39;49m\u001b[43m,\u001b[49m\n\u001b[32m     12\u001b[39m \u001b[43m    \u001b[49m\u001b[43mauthorization_url\u001b[49m\u001b[43m=\u001b[49m\u001b[33;43m\"\u001b[39;49m\u001b[33;43mhttps://accounts.google.com/o/oauth2/auth\u001b[39;49m\u001b[33;43m\"\u001b[39;49m\u001b[43m,\u001b[49m\n\u001b[32m     13\u001b[39m \u001b[43m    \u001b[49m\u001b[43mtoken_url\u001b[49m\u001b[43m=\u001b[49m\u001b[33;43m\"\u001b[39;49m\u001b[33;43mhttps://oauth2.googleapis.com/token\u001b[39;49m\u001b[33;43m\"\u001b[39;49m\u001b[43m,\u001b[49m\n\u001b[32m     14\u001b[39m \u001b[43m    \u001b[49m\u001b[43mscopes\u001b[49m\u001b[43m=\u001b[49m\u001b[43m[\u001b[49m\n\u001b[32m     15\u001b[39m \u001b[43m        \u001b[49m\u001b[33;43m\"\u001b[39;49m\u001b[33;43mhttps://www.googleapis.com/auth/gmail.send\u001b[39;49m\u001b[33;43m\"\u001b[39;49m\u001b[43m,\u001b[49m\n\u001b[32m     16\u001b[39m \u001b[43m        \u001b[49m\u001b[33;43m\"\u001b[39;49m\u001b[33;43mhttps://www.googleapis.com/auth/gmail.readonly\u001b[39;49m\u001b[33;43m\"\u001b[39;49m\n\u001b[32m     17\u001b[39m \u001b[43m    \u001b[49m\u001b[43m]\u001b[49m\u001b[43m,\u001b[49m\n\u001b[32m     18\u001b[39m \u001b[43m    \u001b[49m\u001b[43mredirect_url\u001b[49m\u001b[43m=\u001b[49m\u001b[33;43m\"\u001b[39;49m\u001b[33;43mhttps://platform.composio.dev/oauth/callback\u001b[39;49m\u001b[33;43m\"\u001b[39;49m\n\u001b[32m     19\u001b[39m \u001b[43m)\u001b[49m\n\u001b[32m     21\u001b[39m \u001b[38;5;28mprint\u001b[39m(\u001b[33m\"\u001b[39m\u001b[33m✅ Gmail Auth Config Created:\u001b[39m\u001b[33m\"\u001b[39m, auth_config)\n",
      "\u001b[36mFile \u001b[39m\u001b[32m~/Downloads/python/python_LLM_backend-test/.venv/lib/python3.12/site-packages/composio/core/models/base.py:63\u001b[39m, in \u001b[36mtrace_method.<locals>.trace_wrapper\u001b[39m\u001b[34m(self, *args, **kwargs)\u001b[39m\n\u001b[32m     57\u001b[39m     payload[\u001b[33m\"\u001b[39m\u001b[33merror\u001b[39m\u001b[33m\"\u001b[39m] = {\n\u001b[32m     58\u001b[39m         \u001b[33m\"\u001b[39m\u001b[33mname\u001b[39m\u001b[33m\"\u001b[39m: e.\u001b[34m__class__\u001b[39m.\u001b[34m__name__\u001b[39m,\n\u001b[32m     59\u001b[39m         \u001b[33m\"\u001b[39m\u001b[33mmessage\u001b[39m\u001b[33m\"\u001b[39m: \u001b[38;5;28mstr\u001b[39m(e),\n\u001b[32m     60\u001b[39m         \u001b[33m\"\u001b[39m\u001b[33mstack\u001b[39m\u001b[33m\"\u001b[39m: traceback.format_exc(),\n\u001b[32m     61\u001b[39m     }\n\u001b[32m     62\u001b[39m     event = (\u001b[33m\"\u001b[39m\u001b[33merror\u001b[39m\u001b[33m\"\u001b[39m, payload)\n\u001b[32m---> \u001b[39m\u001b[32m63\u001b[39m     \u001b[38;5;28;01mraise\u001b[39;00m e\n\u001b[32m     64\u001b[39m \u001b[38;5;28;01mfinally\u001b[39;00m:\n\u001b[32m     65\u001b[39m     \u001b[38;5;28;01mif\u001b[39;00m event \u001b[38;5;129;01mis\u001b[39;00m \u001b[38;5;129;01mnot\u001b[39;00m \u001b[38;5;28;01mNone\u001b[39;00m:\n",
      "\u001b[36mFile \u001b[39m\u001b[32m~/Downloads/python/python_LLM_backend-test/.venv/lib/python3.12/site-packages/composio/core/models/base.py:54\u001b[39m, in \u001b[36mtrace_method.<locals>.trace_wrapper\u001b[39m\u001b[34m(self, *args, **kwargs)\u001b[39m\n\u001b[32m     38\u001b[39m event = create_event(\n\u001b[32m     39\u001b[39m     \u001b[38;5;28mtype\u001b[39m=\u001b[33m\"\u001b[39m\u001b[33mmetric\u001b[39m\u001b[33m\"\u001b[39m,\n\u001b[32m     40\u001b[39m     functionName=name,\n\u001b[32m   (...)\u001b[39m\u001b[32m     51\u001b[39m     },\n\u001b[32m     52\u001b[39m )\n\u001b[32m     53\u001b[39m \u001b[38;5;28;01mtry\u001b[39;00m:\n\u001b[32m---> \u001b[39m\u001b[32m54\u001b[39m     \u001b[38;5;28;01mreturn\u001b[39;00m \u001b[43mmethod\u001b[49m\u001b[43m(\u001b[49m\u001b[38;5;28;43mself\u001b[39;49m\u001b[43m,\u001b[49m\u001b[43m \u001b[49m\u001b[43m*\u001b[49m\u001b[43margs\u001b[49m\u001b[43m,\u001b[49m\u001b[43m \u001b[49m\u001b[43m*\u001b[49m\u001b[43m*\u001b[49m\u001b[43mkwargs\u001b[49m\u001b[43m)\u001b[49m\n\u001b[32m     55\u001b[39m \u001b[38;5;28;01mexcept\u001b[39;00m \u001b[38;5;167;01mException\u001b[39;00m \u001b[38;5;28;01mas\u001b[39;00m e:\n\u001b[32m     56\u001b[39m     _, payload = event\n",
      "\u001b[31mTypeError\u001b[39m: AuthConfigs.create() got an unexpected keyword argument 'name'"
     ]
    }
   ],
   "source": [
    "from composio import Composio\n",
    "\n",
    "client = Composio(api_key=\"ak_GepAqzYQ6d6WggBF_zot\")\n",
    "\n",
    "auth_config = client.auth_configs.create(\n",
    "    options={\n",
    "        \"name\": \"gmail_oauth_config\",\n",
    "        \"description\": \"Auth config for Gmail using OAuth2\",\n",
    "        \"auth_type\": \"OAUTH2\",\n",
    "        \"client_id\": \"748437915604-jofnhl9p4u8hpr1qn6b5jhlsobp7d7mq.apps.googleusercontent.com\",\n",
    "        \"client_secret\": \"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\",\n",
    "        \"authorization_url\": \"https://accounts.google.com/o/oauth2/auth\",\n",
    "        \"token_url\": \"https://oauth2.googleapis.com/token\",\n",
    "        \"scopes\": [\n",
    "            \"https://www.googleapis.com/auth/gmail.send\",\n",
    "            \"https://www.googleapis.com/auth/gmail.readonly\"\n",
    "        ],\n",
    "        \"redirect_url\": \"https://platform.composio.dev/oauth/callback\"\n",
    "    }\n",
    ")\n",
    "\n",
    "print(\"✅ Gmail Auth Config Created:\", auth_config)\n"
   ]
  },
  {
   "cell_type": "code",
   "execution_count": null,
   "id": "6f66e261",
   "metadata": {},
   "outputs": [],
   "source": []
  }
 ],
 "metadata": {
  "kernelspec": {
   "display_name": ".venv (3.12.3)",
   "language": "python",
   "name": "python3"
  },
  "language_info": {
   "codemirror_mode": {
    "name": "ipython",
    "version": 3
   },
   "file_extension": ".py",
   "mimetype": "text/x-python",
   "name": "python",
   "nbconvert_exporter": "python",
   "pygments_lexer": "ipython3",
   "version": "3.12.3"
  }
 },
 "nbformat": 4,
 "nbformat_minor": 5
}
