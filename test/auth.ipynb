{
 "cells": [
  {
   "cell_type": "markdown",
   "id": "0a9b7433",
   "metadata": {},
   "source": [
    "## create gmail auth_config"
   ]
  },
  {
   "cell_type": "code",
   "execution_count": 13,
   "id": "2412e6cd",
   "metadata": {},
   "outputs": [
    {
     "name": "stdout",
     "output_type": "stream",
     "text": [
      "✅ Auth Config created successfully!\n",
      "Response data: {'toolkit': {'slug': 'gmail'}, 'auth_config': {'id': 'ac_hDe0DOfQlOXz', 'auth_scheme': 'OAUTH2', 'is_composio_managed': True, 'restrict_to_following_tools': []}}\n"
     ]
    }
   ],
   "source": [
    "import requests\n",
    "\n",
    "# Your Composio API key\n",
    "API_KEY = \"ak_GepAqzYQ6d6WggBF_zot\"   # 🔑 Replace with your actual API key\n",
    "\n",
    "# API endpoint\n",
    "url = \"https://backend.composio.dev/api/v3/auth_configs\"\n",
    "\n",
    "# Request headers\n",
    "headers = {\n",
    "    \"x-api-key\": API_KEY,\n",
    "    \"Content-Type\": \"application/json\"\n",
    "}\n",
    "\n",
    "# Request body\n",
    "# Change \"gmail\" to the service/toolkit you want (example: \"gmail\", \"slack\", etc.)\n",
    "payload = {\n",
    "    \"toolkit\": {\n",
    "        \"slug\": \"gmail\"\n",
    "    }\n",
    "}\n",
    "\n",
    "# Send POST request\n",
    "response = requests.post(url, headers=headers, json=payload)\n",
    "\n",
    "# Handle the response\n",
    "if response.ok:\n",
    "    data = response.json()\n",
    "    print(\"✅ Auth Config created successfully!\")\n",
    "    print(\"Response data:\", data)\n",
    "else:\n",
    "    print(\"❌ Failed to create Auth Config\")\n",
    "    print(\"Status Code:\", response.status_code)\n",
    "    print(\"Response:\", response.text)\n"
   ]
  },
  {
   "cell_type": "markdown",
   "id": "928ca7d0",
   "metadata": {},
   "source": [
    "## list of auth config items "
   ]
  },
  {
   "cell_type": "code",
   "execution_count": 7,
   "id": "12dda16d",
   "metadata": {},
   "outputs": [
    {
     "name": "stdout",
     "output_type": "stream",
     "text": [
      "✅ Auth configs fetched successfully.\n",
      "Auth Configs: {'items': [{'id': 'ac_busLmBvBTxkY', 'uuid': '922816ef-cb30-4293-bfbd-4117f1a4f633', 'name': 'auth_config_gmail_1757662096892', 'auth_scheme': 'OAUTH2', 'is_composio_managed': True, 'credentials': {'client_id': '****', 'client_secret': '****', 'scopes': [], 'oauth_redirect_uri': 'https://backend.composio.dev/api/v1/auth-apps/add'}, 'created_by': 'fb674baf-882a-4460-8bb6-366181f0c34a', 'created_at': '2025-09-12T07:28:16.894Z', 'last_updated_at': '2025-09-12T07:28:16.894Z', 'status': 'ENABLED', 'toolkit': {'slug': 'gmail', 'logo': 'https://cdn.jsdelivr.net/gh/ComposioHQ/open-logos@master/gmail.svg'}, 'no_of_connections': 0, 'tool_access_config': {'tools_for_connected_account_creation': [], 'tools_available_for_execution': []}, 'type': 'default', 'deprecated_params': {'default_connector_id': 'test-gmail-connector', 'member_uuid': 'fb674baf-882a-4460-8bb6-366181f0c34a', 'toolkit_id': 'a90e7d79-4f7a-4ff2-bd7d-19c78640b8f8', 'expected_input_fields': []}}, {'id': 'ac_my-IRuBzrA-G', 'uuid': '82f9227b-5f87-486c-ae76-6536ddc430dc', 'name': 'gmail_oauth_config', 'auth_scheme': 'OAUTH2', 'is_composio_managed': False, 'credentials': {'client_id': '748437915604-jofnhl9p4u8hpr1qn6b5jhlsobp7d7mq.apps.googleusercontent.com', 'client_secret': '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', 'scopes': ['https://www.googleapis.com/auth/gmail.modify', 'https://www.googleapis.com/auth/userinfo.profile', 'https://www.googleapis.com/auth/userinfo.email', 'https://www.googleapis.com/auth/contacts.readonly', 'https://www.googleapis.com/auth/contacts.other.readonly', 'https://www.googleapis.com/auth/profile.language.read', 'https://www.googleapis.com/auth/user.addresses.read', 'https://www.googleapis.com/auth/user.birthday.read', 'https://www.googleapis.com/auth/user.emails.read', 'https://www.googleapis.com/auth/user.phonenumbers.read', 'https://www.googleapis.com/auth/profile.emails.read'], 'oauth_redirect_uri': 'https://backend.composio.dev/api/v1/auth-apps/add'}, 'created_by': 'fb674baf-882a-4460-8bb6-366181f0c34a', 'created_at': '2025-09-12T06:51:25.410Z', 'last_updated_at': '2025-09-12T06:51:25.410Z', 'status': 'ENABLED', 'toolkit': {'slug': 'gmail', 'logo': 'https://cdn.jsdelivr.net/gh/ComposioHQ/open-logos@master/gmail.svg'}, 'no_of_connections': 0, 'tool_access_config': {'tools_for_connected_account_creation': [], 'tools_available_for_execution': []}, 'type': 'custom', 'deprecated_params': {'default_connector_id': '', 'member_uuid': 'fb674baf-882a-4460-8bb6-366181f0c34a', 'toolkit_id': 'a90e7d79-4f7a-4ff2-bd7d-19c78640b8f8', 'expected_input_fields': []}}], 'current_page': 1, 'total_pages': 1, 'total_items': 2, 'next_cursor': None}\n"
     ]
    }
   ],
   "source": [
    "import requests\n",
    "\n",
    "def list_auth_configs(api_key: str):\n",
    "    \"\"\"\n",
    "    List all authentication configurations from Composio API.\n",
    "\n",
    "    :param api_key: Your Composio API key\n",
    "    :return: JSON list of auth configs or None if request fails\n",
    "    \"\"\"\n",
    "    url = \"https://backend.composio.dev/api/v3/auth_configs\"\n",
    "    headers = {\n",
    "        \"x-api-key\": api_key\n",
    "    }\n",
    "\n",
    "    try:\n",
    "        response = requests.get(url, headers=headers)\n",
    "\n",
    "        if response.ok:\n",
    "            print(\"✅ Auth configs fetched successfully.\")\n",
    "            return response.json()\n",
    "        else:\n",
    "            print(\"❌ Failed to fetch auth configs\")\n",
    "            print(\"Status Code:\", response.status_code)\n",
    "            print(\"Response:\", response.text)\n",
    "            return None\n",
    "\n",
    "    except Exception as e:\n",
    "        print(\"⚠️ Error:\", str(e))\n",
    "        return None\n",
    "\n",
    "\n",
    "# 🧪 Example usage\n",
    "if __name__ == \"__main__\":\n",
    "    YOUR_API_KEY = \"ak_GepAqzYQ6d6WggBF_zot\"  # <-- Replace with your API key\n",
    "    configs = list_auth_configs(YOUR_API_KEY)\n",
    "    print(\"Auth Configs:\", configs)\n"
   ]
  },
  {
   "cell_type": "markdown",
   "id": "04c99c21",
   "metadata": {},
   "source": [
    "## get details "
   ]
  },
  {
   "cell_type": "code",
   "execution_count": 8,
   "id": "e7918bbf",
   "metadata": {},
   "outputs": [
    {
     "name": "stdout",
     "output_type": "stream",
     "text": [
      "✅ Auth config fetched successfully.\n",
      "Auth Config Details: {'id': 'ac_busLmBvBTxkY', 'uuid': '922816ef-cb30-4293-bfbd-4117f1a4f633', 'name': 'auth_config_gmail_1757662096892', 'auth_scheme': 'OAUTH2', 'is_composio_managed': True, 'credentials': {'client_id': '****', 'client_secret': '****', 'oauth_redirect_uri': 'https://backend.composio.dev/api/v1/auth-apps/add'}, 'created_by': 'member', 'created_at': '2025-09-12T07:28:16.894Z', 'status': 'ENABLED', 'toolkit': {'slug': 'gmail', 'logo': 'https://cdn.jsdelivr.net/gh/ComposioHQ/open-logos@master/gmail.svg'}, 'last_updated_at': '2025-09-12T07:28:16.894Z', 'no_of_connections': 0, 'expected_input_fields': [], 'restrict_to_following_tools': [], 'type': 'default', 'tool_access_config': {'tools_for_connected_account_creation': [], 'tools_available_for_execution': []}, 'deprecated_params': {'default_connector_id': 'test-gmail-connector', 'member_uuid': 'fb674baf-882a-4460-8bb6-366181f0c34a', 'toolkit_id': 'a90e7d79-4f7a-4ff2-bd7d-19c78640b8f8', 'expected_input_fields': []}}\n"
     ]
    }
   ],
   "source": [
    "import requests\n",
    "\n",
    "def get_auth_config(api_key: str, nanoid: str):\n",
    "    \"\"\"\n",
    "    Get a single authentication configuration by its nanoid.\n",
    "\n",
    "    :param api_key: Your Composio API key\n",
    "    :param nanoid: The unique ID of the auth config\n",
    "    :return: JSON response with auth config details or None if failed\n",
    "    \"\"\"\n",
    "    url = f\"https://backend.composio.dev/api/v3/auth_configs/{nanoid}\"\n",
    "    headers = {\n",
    "        \"x-api-key\": api_key\n",
    "    }\n",
    "\n",
    "    try:\n",
    "        response = requests.get(url, headers=headers)\n",
    "\n",
    "        if response.ok:\n",
    "            print(\"✅ Auth config fetched successfully.\")\n",
    "            return response.json()\n",
    "        else:\n",
    "            print(\"❌ Failed to fetch auth config\")\n",
    "            print(\"Status Code:\", response.status_code)\n",
    "            print(\"Response:\", response.text)\n",
    "            return None\n",
    "\n",
    "    except Exception as e:\n",
    "        print(\"⚠️ Error:\", str(e))\n",
    "        return None\n",
    "\n",
    "\n",
    "# 🧪 Example usage\n",
    "if __name__ == \"__main__\":\n",
    "    YOUR_API_KEY = \"ak_GepAqzYQ6d6WggBF_zot\"  # <-- Replace with your API key\n",
    "    AUTH_CONFIG_ID = \"ac_busLmBvBTxkY\"   # <-- Replace this\n",
    "    data = get_auth_config(YOUR_API_KEY, AUTH_CONFIG_ID)\n",
    "    print(\"Auth Config Details:\", data)\n"
   ]
  },
  {
   "cell_type": "markdown",
   "id": "52fbed29",
   "metadata": {},
   "source": [
    "## send message to user\n"
   ]
  },
  {
   "cell_type": "code",
   "execution_count": 10,
   "id": "d511af5a",
   "metadata": {},
   "outputs": [],
   "source": [
    "import os\n",
    "import requests\n",
    "# from dotenv import load_dotenv\n",
    "\n",
    "# load_dotenv()\n",
    "\n",
    "# COMPOSIO_API_KEY = os.getenv(\"COMPOSIO_API_KEY\")\n",
    "# GMAIL_AUTH_CONFIG_ID = os.getenv(\"GMAIL_AUTH_CONFIG_ID\")\n",
    "\n",
    "def send_message(\n",
    "    connected_account_id: str,\n",
    "    to_email: str,\n",
    "    subject: str,\n",
    "    body: str\n",
    ") -> dict:\n",
    "    \"\"\"\n",
    "    Send an email via Gmail using Composio API.\n",
    "    \n",
    "    Args:\n",
    "        connected_account_id (str): User's connected Gmail account ID\n",
    "        to_email (str): Recipient email address\n",
    "        subject (str): Email subject\n",
    "        body (str): Email body content\n",
    "\n",
    "    Returns:\n",
    "        dict: API response\n",
    "    \"\"\"\n",
    "    url = \"https://backend.composio.dev/api/v3/actions/run\"\n",
    "    headers = {\"x-api-key\": COMPOSIO_API_KEY}\n",
    "    payload = {\n",
    "        \"connectedAccountId\": connected_account_id,\n",
    "        \"action\": \"gmail.sendEmail\",\n",
    "        \"input\": {\n",
    "            \"to\": to_email,\n",
    "            \"subject\": subject,\n",
    "            \"body\": body,\n",
    "        },\n",
    "    }\n",
    "\n",
    "    try:\n",
    "        res = requests.post(url, headers=headers, json=payload)\n",
    "        res.raise_for_status()\n",
    "        return {\"success\": True, \"response\": res.json()}\n",
    "    except requests.RequestException as e:\n",
    "        return {\"success\": False, \"error\": str(e)}\n"
   ]
  },
  {
   "cell_type": "markdown",
   "id": "4a130126",
   "metadata": {},
   "source": [
    "## Delete auth config"
   ]
  },
  {
   "cell_type": "code",
   "execution_count": 14,
   "id": "f3e556c8",
   "metadata": {},
   "outputs": [
    {
     "name": "stdout",
     "output_type": "stream",
     "text": [
      "🔹 Sending DELETE request to: https://backend.composio.dev/api/v3/auth_configs/ac_my-IRuBzrA-G\n",
      "🔹 Status Code: 200\n",
      "🔹 Response Headers: {'Date': 'Fri, 12 Sep 2025 10:32:36 GMT', 'Content-Type': 'application/json', 'Transfer-Encoding': 'chunked', 'Connection': 'keep-alive', 'Server': 'cloudflare', 'CF-Ray': '97debde3ec1646b9-BOM', 'CF-Cache-Status': 'DYNAMIC', 'Cache-Control': 'public, max-age=0, must-revalidate', 'Content-Encoding': 'gzip', 'Strict-Transport-Security': 'max-age=63072000', 'Vary': 'Origin, accept-encoding', 'access-control-allow-credentials': 'true', 'Cf-Placement': 'local-BOM', 'x-matched-path': '/api/v3/auth_configs/[nanoid]', 'x-powered-by': 'composio tech team', 'x-request-id': 'dba4b407-3f51-426f-bd77-b389fee2ba76', 'x-vercel-cache': 'MISS', 'x-vercel-id': 'bom1::iad1::r4zzl-1757673155949-e80494f75224'}\n",
      "🔹 Response Text: {\"success\":true,\"message\":\"Successfully deleted auth config\"}\n",
      "✅ Auth config ac_my-IRuBzrA-G deleted successfully.\n",
      "Delete Result: {'success': True, 'message': 'Successfully deleted auth config'}\n"
     ]
    }
   ],
   "source": [
    "import requests\n",
    "\n",
    "def delete_auth_config(nanoid: str, api_key: str):\n",
    "    \"\"\"\n",
    "    Delete an authentication configuration from Composio API with detailed debug.\n",
    "\n",
    "    :param nanoid: The ID of the auth config to delete\n",
    "    :param api_key: Your Composio API key\n",
    "    :return: JSON response from API or None if request fails\n",
    "    \"\"\"\n",
    "    url = f\"https://backend.composio.dev/api/v3/auth_configs/{nanoid}\"\n",
    "    headers = {\n",
    "        \"x-api-key\": api_key\n",
    "    }\n",
    "\n",
    "    try:\n",
    "        print(f\"🔹 Sending DELETE request to: {url}\")\n",
    "        response = requests.delete(url, headers=headers)\n",
    "\n",
    "        print(f\"🔹 Status Code: {response.status_code}\")\n",
    "        print(f\"🔹 Response Headers: {response.headers}\")\n",
    "        print(f\"🔹 Response Text: {response.text}\")\n",
    "\n",
    "        if response.ok:\n",
    "            print(f\"✅ Auth config {nanoid} deleted successfully.\")\n",
    "            return response.json()\n",
    "        else:\n",
    "            print(f\"❌ Failed to delete auth config {nanoid}\")\n",
    "            # Extra debug info\n",
    "            if response.status_code == 401:\n",
    "                print(\"⚠️ Unauthorized: Check your API key.\")\n",
    "            elif response.status_code == 403:\n",
    "                print(\"⚠️ Forbidden: API key does not have delete permissions.\")\n",
    "            elif response.status_code == 404:\n",
    "                print(\"⚠️ Not Found: Check if the nanoid is correct.\")\n",
    "            return None\n",
    "\n",
    "    except requests.exceptions.RequestException as e:\n",
    "        print(\"⚠️ Request Exception:\", str(e))\n",
    "        return None\n",
    "\n",
    "\n",
    "# 🧪 Example usage\n",
    "if __name__ == \"__main__\":\n",
    "    YOUR_API_KEY = \"ak_GepAqzYQ6d6WggBF_zot\"  # <-- Replace with your API key\n",
    "    NANOID_TO_DELETE = \"ac_my-IRuBzrA-G\"             # <-- Replace with the config ID\n",
    "    result = delete_auth_config(NANOID_TO_DELETE, YOUR_API_KEY)\n",
    "    print(\"Delete Result:\", result)\n"
   ]
  },
  {
   "cell_type": "markdown",
   "id": "e21ac68e",
   "metadata": {},
   "source": [
    "## update config"
   ]
  },
  {
   "cell_type": "code",
   "execution_count": null,
   "id": "a3765ad7",
   "metadata": {},
   "outputs": [],
   "source": [
    "import requests\n",
    "\n",
    "def update_auth_config(nanoid: str, api_key: str, update_data: dict):\n",
    "    \"\"\"\n",
    "    Update an authentication configuration on Composio API.\n",
    "\n",
    "    :param nanoid: The ID of the auth config to update\n",
    "    :param api_key: Your Composio API key\n",
    "    :param update_data: Dictionary containing fields to update\n",
    "    :return: JSON response from API or None if request fails\n",
    "    \"\"\"\n",
    "    url = f\"https://backend.composio.dev/api/v3/auth_configs/{nanoid}\"\n",
    "    headers = {\n",
    "        \"x-api-key\": api_key,\n",
    "        \"Content-Type\": \"application/json\"\n",
    "    }\n",
    "\n",
    "    try:\n",
    "        print(f\"🔹 Sending PATCH request to: {url}\")\n",
    "        print(f\"🔹 Update Data: {update_data}\")\n",
    "\n",
    "        response = requests.patch(url, headers=headers, json=update_data)\n",
    "\n",
    "        print(f\"🔹 Status Code: {response.status_code}\")\n",
    "        print(f\"🔹 Response Text: {response.text}\")\n",
    "\n",
    "        if response.ok:\n",
    "            print(f\"✅ Auth config {nanoid} updated successfully.\")\n",
    "            return response.json()\n",
    "        else:\n",
    "            print(f\"❌ Failed to update auth config {nanoid}\")\n",
    "            if response.status_code == 400:\n",
    "                print(\"⚠️ Bad Request: Check your update data.\")\n",
    "            elif response.status_code == 404:\n",
    "                print(\"⚠️ Not Found: Check if the nanoid is correct.\")\n",
    "            elif response.status_code == 401:\n",
    "                print(\"⚠️ Unauthorized: Check your API key.\")\n",
    "            return None\n",
    "\n",
    "    except requests.exceptions.RequestException as e:\n",
    "        print(\"⚠️ Request Exception:\", str(e))\n",
    "        return None\n",
    "\n",
    "\n",
    "# 🧪 Example usage\n",
    "if __name__ == \"__main__\":\n",
    "    YOUR_API_KEY = \"ak_GepAqzYQ6d6WggBF_zot\"  # <-- Replace with your API key\n",
    "    NANOID_TO_UPDATE = \"abc123xyz\"             # <-- Replace with the config ID\n",
    "    UPDATE_DATA = {\"type\": \"custom\"}           # <-- Fields to update\n",
    "\n",
    "    result = update_auth_config(NANOID_TO_UPDATE, YOUR_API_KEY, UPDATE_DATA)\n",
    "    print(\"Update Result:\", result)\n"
   ]
  },
  {
   "cell_type": "markdown",
   "id": "661ba740",
   "metadata": {},
   "source": [
    "## Status "
   ]
  },
  {
   "cell_type": "code",
   "execution_count": 17,
   "id": "669fdef8",
   "metadata": {},
   "outputs": [
    {
     "name": "stdout",
     "output_type": "stream",
     "text": [
      "🔹 Sending PATCH request to: https://backend.composio.dev/api/v3/auth_configs/ac_hDe0DOfQlOXz/ENABLED\n",
      "🔹 Status Code: 200\n",
      "🔹 Response Text: {\"success\":true,\"message\":\"Successfully updated auth config\"}\n",
      "✅ Auth config ac_hDe0DOfQlOXz set to ENABLED successfully.\n",
      "Result: {'success': True, 'message': 'Successfully updated auth config'}\n"
     ]
    }
   ],
   "source": [
    "import requests\n",
    "\n",
    "def set_auth_config_status(nanoid: str, status: str, api_key: str):\n",
    "    \"\"\"\n",
    "    Enable or disable an authentication configuration on Composio API.\n",
    "\n",
    "    :param nanoid: The ID of the auth config\n",
    "    :param status: \"ENABLED\" or \"DISABLED\"\n",
    "    :param api_key: Your Composio API key\n",
    "    :return: JSON response from API or None if request fails\n",
    "    \"\"\"\n",
    "    url = f\"https://backend.composio.dev/api/v3/auth_configs/{nanoid}/{status.upper()}\"\n",
    "    headers = {\n",
    "        \"x-api-key\": api_key\n",
    "    }\n",
    "\n",
    "    try:\n",
    "        print(f\"🔹 Sending PATCH request to: {url}\")\n",
    "\n",
    "        response = requests.patch(url, headers=headers)\n",
    "\n",
    "        print(f\"🔹 Status Code: {response.status_code}\")\n",
    "        print(f\"🔹 Response Text: {response.text}\")\n",
    "\n",
    "        if response.ok:\n",
    "            print(f\"✅ Auth config {nanoid} set to {status.upper()} successfully.\")\n",
    "            return response.json()\n",
    "        else:\n",
    "            print(f\"❌ Failed to set auth config {nanoid} status to {status.upper()}\")\n",
    "            if response.status_code == 400:\n",
    "                print(\"⚠️ Bad Request: Check if status is ENABLED or DISABLED.\")\n",
    "            elif response.status_code == 404:\n",
    "                print(\"⚠️ Not Found: Check if the nanoid is correct.\")\n",
    "            elif response.status_code == 401:\n",
    "                print(\"⚠️ Unauthorized: Check your API key.\")\n",
    "            return None\n",
    "\n",
    "    except requests.exceptions.RequestException as e:\n",
    "        print(\"⚠️ Request Exception:\", str(e))\n",
    "        return None\n",
    "\n",
    "\n",
    "# 🧪 Example usage\n",
    "if __name__ == \"__main__\":\n",
    "    YOUR_API_KEY = \"ak_GepAqzYQ6d6WggBF_zot\"  # <-- Replace with your API key\n",
    "    NANOID = \"ac_hDe0DOfQlOXz\"                       # <-- Replace with the config ID\n",
    "    STATUS = \"ENABLED\"                         # or \"DISABLED\"\n",
    "\n",
    "    result = set_auth_config_status(NANOID, STATUS, YOUR_API_KEY)\n",
    "    print(\"Result:\", result)\n"
   ]
  },
  {
   "cell_type": "code",
   "execution_count": null,
   "id": "7d7d27bb",
   "metadata": {},
   "outputs": [],
   "source": []
  }
 ],
 "metadata": {
  "kernelspec": {
   "display_name": ".venv (3.12.3)",
   "language": "python",
   "name": "python3"
  },
  "language_info": {
   "codemirror_mode": {
    "name": "ipython",
    "version": 3
   },
   "file_extension": ".py",
   "mimetype": "text/x-python",
   "name": "python",
   "nbconvert_exporter": "python",
   "pygments_lexer": "ipython3",
   "version": "3.12.3"
  }
 },
 "nbformat": 4,
 "nbformat_minor": 5
}
